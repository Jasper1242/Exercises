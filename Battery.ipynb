{
 "cells": [
  {
   "cell_type": "markdown",
   "id": "9aa48535",
   "metadata": {},
   "source": [
    "# Lithium Battery"
   ]
  },
  {
   "cell_type": "markdown",
   "id": "cbddd41c",
   "metadata": {},
   "source": [
    "## Introduction\n",
    "\n"
   ]
  },
  {
   "cell_type": "markdown",
   "id": "099cf3ca",
   "metadata": {},
   "source": [
    "The tempreture of a lithum ion battery is very important, as if it exceeds 60 $^{0}C$ then the battery can start to degrade, leading to the release of flammable gases.\n",
    "\n",
    "The tempreture is roughly determined by a balance between the heat generated and then lost to surrounding enviroment. This can be approximated by the equation\n",
    "\n",
    "$T = T_{air} + \\frac{I^2R}{h}$ \n",
    "\n",
    "\n"
   ]
  },
  {
   "cell_type": "code",
   "execution_count": 20,
   "id": "009da0f1",
   "metadata": {},
   "outputs": [
    {
     "ename": "TypeError",
     "evalue": "'builtin_function_or_method' object is not subscriptable",
     "output_type": "error",
     "traceback": [
      "\u001b[1;31m---------------------------------------------------------------------------\u001b[0m",
      "\u001b[1;31mTypeError\u001b[0m                                 Traceback (most recent call last)",
      "Input \u001b[1;32mIn [20]\u001b[0m, in \u001b[0;36m<cell line: 7>\u001b[1;34m()\u001b[0m\n\u001b[0;32m      5\u001b[0m R \u001b[38;5;241m=\u001b[39m \u001b[38;5;241m3\u001b[39m \u001b[38;5;241m*\u001b[39m \u001b[38;5;241m10\u001b[39m\u001b[38;5;241m*\u001b[39m\u001b[38;5;241m*\u001b[39m\u001b[38;5;241m-\u001b[39m\u001b[38;5;241m4\u001b[39m\n\u001b[0;32m      6\u001b[0m h \u001b[38;5;241m=\u001b[39m \u001b[38;5;241m1.86\u001b[39m \u001b[38;5;241m*\u001b[39m \u001b[38;5;241m10\u001b[39m\u001b[38;5;241m*\u001b[39m\u001b[38;5;241m*\u001b[39m\u001b[38;5;241m-\u001b[39m\u001b[38;5;241m4\u001b[39m\n\u001b[1;32m----> 7\u001b[0m ig \u001b[38;5;241m=\u001b[39m \u001b[43mnp\u001b[49m\u001b[38;5;241;43m.\u001b[39;49m\u001b[43marray\u001b[49m\u001b[43m[\u001b[49m\u001b[38;5;241;43m1\u001b[39;49m\u001b[43m,\u001b[49m\u001b[38;5;241;43m2\u001b[39;49m\u001b[43m]\u001b[49m\n\u001b[0;32m      8\u001b[0m I \u001b[38;5;241m=\u001b[39m optimize\u001b[38;5;241m.\u001b[39mroot(ig,((T\u001b[38;5;241m-\u001b[39mTair)\u001b[38;5;241m*\u001b[39mh)\u001b[38;5;241m/\u001b[39mR)\n\u001b[0;32m      9\u001b[0m \u001b[38;5;28mprint\u001b[39m(I)\n",
      "\u001b[1;31mTypeError\u001b[0m: 'builtin_function_or_method' object is not subscriptable"
     ]
    }
   ],
   "source": [
    "from scipy import optimize\n",
    "import numpy as np\n",
    "T = 60 \n",
    "Tair = 23\n",
    "R = 3 * 10**-4\n",
    "h = 1.86 * 10**-4\n",
    "ig = np.array[1,2]\n",
    "I = optimize.root(ig,((T-Tair)*h)/R)\n",
    "print(I)"
   ]
  }
 ],
 "metadata": {
  "kernelspec": {
   "display_name": "Python 3 (ipykernel)",
   "language": "python",
   "name": "python3"
  },
  "language_info": {
   "codemirror_mode": {
    "name": "ipython",
    "version": 3
   },
   "file_extension": ".py",
   "mimetype": "text/x-python",
   "name": "python",
   "nbconvert_exporter": "python",
   "pygments_lexer": "ipython3",
   "version": "3.9.12"
  }
 },
 "nbformat": 4,
 "nbformat_minor": 5
}
